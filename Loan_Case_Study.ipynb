{
  "nbformat": 4,
  "nbformat_minor": 0,
  "metadata": {
    "colab": {
      "provenance": []
    },
    "kernelspec": {
      "name": "python3",
      "display_name": "Python 3"
    },
    "language_info": {
      "name": "python"
    }
  },
  "cells": [
    {
      "cell_type": "code",
      "source": [
        "from google.colab import drive\n",
        "drive.mount('/content/drive')"
      ],
      "metadata": {
        "colab": {
          "base_uri": "https://localhost:8080/"
        },
        "id": "Km9K7a7kuVYg",
        "outputId": "a0dd0668-6b6e-476a-ee11-d067a65214a6"
      },
      "execution_count": null,
      "outputs": [
        {
          "output_type": "stream",
          "name": "stdout",
          "text": [
            "Mounted at /content/drive\n"
          ]
        }
      ]
    },
    {
      "cell_type": "code",
      "execution_count": null,
      "metadata": {
        "id": "GMmcDXULt_rs"
      },
      "outputs": [],
      "source": [
        "# Import the numpy, pandas and matplot packages\n",
        "import numpy as np\n",
        "import pandas as pd\n",
        "import matplotlib.pyplot as plt\n",
        "import seaborn as sns\n",
        "pd.set_option('display.max_rows',150)"
      ]
    },
    {
      "cell_type": "code",
      "source": [
        "# Supress Warnings\n",
        "import warnings\n",
        "warnings.filterwarnings('ignore')"
      ],
      "metadata": {
        "id": "drERdW_Vpl6K"
      },
      "execution_count": null,
      "outputs": []
    },
    {
      "cell_type": "markdown",
      "source": [
        "<h1>Import and Read</h1>\n",
        "<b>Import all the dataset and store it in a variable previous, application, description.<b>"
      ],
      "metadata": {
        "id": "qh8M2LA83efV"
      }
    },
    {
      "cell_type": "code",
      "source": [
        "#import the dataset\n",
        "previous= pd.read_csv('/content/drive/MyDrive/Stige/Loan Case Study/previous_application.csv')\n",
        "application= pd.read_csv('/content/drive/MyDrive/Stige/Loan Case Study/application_data.csv')\n",
        "description= pd.read_csv('/content/drive/MyDrive/Stige/Loan Case Study/columns_description.csv',encoding='cp1252')"
      ],
      "metadata": {
        "id": "LupBrSB2vcKR",
        "colab": {
          "base_uri": "https://localhost:8080/",
          "height": 363
        },
        "outputId": "e1d4f99f-c5eb-48db-8b2f-4bbe4cdf8fe8"
      },
      "execution_count": null,
      "outputs": [
        {
          "output_type": "error",
          "ename": "FileNotFoundError",
          "evalue": "ignored",
          "traceback": [
            "\u001b[0;31m---------------------------------------------------------------------------\u001b[0m",
            "\u001b[0;31mFileNotFoundError\u001b[0m                         Traceback (most recent call last)",
            "\u001b[0;32m<ipython-input-4-9c7801080993>\u001b[0m in \u001b[0;36m<module>\u001b[0;34m\u001b[0m\n\u001b[1;32m      1\u001b[0m \u001b[0;31m#import the dataset\u001b[0m\u001b[0;34m\u001b[0m\u001b[0;34m\u001b[0m\u001b[0;34m\u001b[0m\u001b[0m\n\u001b[0;32m----> 2\u001b[0;31m \u001b[0mprevious\u001b[0m\u001b[0;34m=\u001b[0m \u001b[0mpd\u001b[0m\u001b[0;34m.\u001b[0m\u001b[0mread_csv\u001b[0m\u001b[0;34m(\u001b[0m\u001b[0;34m'/content/drive/MyDrive/Stige/Loan Case Study/previous_application.csv'\u001b[0m\u001b[0;34m)\u001b[0m\u001b[0;34m\u001b[0m\u001b[0;34m\u001b[0m\u001b[0m\n\u001b[0m\u001b[1;32m      3\u001b[0m \u001b[0mapplication\u001b[0m\u001b[0;34m=\u001b[0m \u001b[0mpd\u001b[0m\u001b[0;34m.\u001b[0m\u001b[0mread_csv\u001b[0m\u001b[0;34m(\u001b[0m\u001b[0;34m'/content/drive/MyDrive/Stige/Loan Case Study/application_data.csv'\u001b[0m\u001b[0;34m)\u001b[0m\u001b[0;34m\u001b[0m\u001b[0;34m\u001b[0m\u001b[0m\n\u001b[1;32m      4\u001b[0m \u001b[0mdescription\u001b[0m\u001b[0;34m=\u001b[0m \u001b[0mpd\u001b[0m\u001b[0;34m.\u001b[0m\u001b[0mread_csv\u001b[0m\u001b[0;34m(\u001b[0m\u001b[0;34m'/content/drive/MyDrive/Stige/Loan Case Study/columns_description.csv'\u001b[0m\u001b[0;34m,\u001b[0m\u001b[0mencoding\u001b[0m\u001b[0;34m=\u001b[0m\u001b[0;34m'cp1252'\u001b[0m\u001b[0;34m)\u001b[0m\u001b[0;34m\u001b[0m\u001b[0;34m\u001b[0m\u001b[0m\n",
            "\u001b[0;32m/usr/local/lib/python3.7/dist-packages/pandas/util/_decorators.py\u001b[0m in \u001b[0;36mwrapper\u001b[0;34m(*args, **kwargs)\u001b[0m\n\u001b[1;32m    309\u001b[0m                     \u001b[0mstacklevel\u001b[0m\u001b[0;34m=\u001b[0m\u001b[0mstacklevel\u001b[0m\u001b[0;34m,\u001b[0m\u001b[0;34m\u001b[0m\u001b[0;34m\u001b[0m\u001b[0m\n\u001b[1;32m    310\u001b[0m                 )\n\u001b[0;32m--> 311\u001b[0;31m             \u001b[0;32mreturn\u001b[0m \u001b[0mfunc\u001b[0m\u001b[0;34m(\u001b[0m\u001b[0;34m*\u001b[0m\u001b[0margs\u001b[0m\u001b[0;34m,\u001b[0m \u001b[0;34m**\u001b[0m\u001b[0mkwargs\u001b[0m\u001b[0;34m)\u001b[0m\u001b[0;34m\u001b[0m\u001b[0;34m\u001b[0m\u001b[0m\n\u001b[0m\u001b[1;32m    312\u001b[0m \u001b[0;34m\u001b[0m\u001b[0m\n\u001b[1;32m    313\u001b[0m         \u001b[0;32mreturn\u001b[0m \u001b[0mwrapper\u001b[0m\u001b[0;34m\u001b[0m\u001b[0;34m\u001b[0m\u001b[0m\n",
            "\u001b[0;32m/usr/local/lib/python3.7/dist-packages/pandas/io/parsers/readers.py\u001b[0m in \u001b[0;36mread_csv\u001b[0;34m(filepath_or_buffer, sep, delimiter, header, names, index_col, usecols, squeeze, prefix, mangle_dupe_cols, dtype, engine, converters, true_values, false_values, skipinitialspace, skiprows, skipfooter, nrows, na_values, keep_default_na, na_filter, verbose, skip_blank_lines, parse_dates, infer_datetime_format, keep_date_col, date_parser, dayfirst, cache_dates, iterator, chunksize, compression, thousands, decimal, lineterminator, quotechar, quoting, doublequote, escapechar, comment, encoding, encoding_errors, dialect, error_bad_lines, warn_bad_lines, on_bad_lines, delim_whitespace, low_memory, memory_map, float_precision, storage_options)\u001b[0m\n\u001b[1;32m    584\u001b[0m     \u001b[0mkwds\u001b[0m\u001b[0;34m.\u001b[0m\u001b[0mupdate\u001b[0m\u001b[0;34m(\u001b[0m\u001b[0mkwds_defaults\u001b[0m\u001b[0;34m)\u001b[0m\u001b[0;34m\u001b[0m\u001b[0;34m\u001b[0m\u001b[0m\n\u001b[1;32m    585\u001b[0m \u001b[0;34m\u001b[0m\u001b[0m\n\u001b[0;32m--> 586\u001b[0;31m     \u001b[0;32mreturn\u001b[0m \u001b[0m_read\u001b[0m\u001b[0;34m(\u001b[0m\u001b[0mfilepath_or_buffer\u001b[0m\u001b[0;34m,\u001b[0m \u001b[0mkwds\u001b[0m\u001b[0;34m)\u001b[0m\u001b[0;34m\u001b[0m\u001b[0;34m\u001b[0m\u001b[0m\n\u001b[0m\u001b[1;32m    587\u001b[0m \u001b[0;34m\u001b[0m\u001b[0m\n\u001b[1;32m    588\u001b[0m \u001b[0;34m\u001b[0m\u001b[0m\n",
            "\u001b[0;32m/usr/local/lib/python3.7/dist-packages/pandas/io/parsers/readers.py\u001b[0m in \u001b[0;36m_read\u001b[0;34m(filepath_or_buffer, kwds)\u001b[0m\n\u001b[1;32m    480\u001b[0m \u001b[0;34m\u001b[0m\u001b[0m\n\u001b[1;32m    481\u001b[0m     \u001b[0;31m# Create the parser.\u001b[0m\u001b[0;34m\u001b[0m\u001b[0;34m\u001b[0m\u001b[0;34m\u001b[0m\u001b[0m\n\u001b[0;32m--> 482\u001b[0;31m     \u001b[0mparser\u001b[0m \u001b[0;34m=\u001b[0m \u001b[0mTextFileReader\u001b[0m\u001b[0;34m(\u001b[0m\u001b[0mfilepath_or_buffer\u001b[0m\u001b[0;34m,\u001b[0m \u001b[0;34m**\u001b[0m\u001b[0mkwds\u001b[0m\u001b[0;34m)\u001b[0m\u001b[0;34m\u001b[0m\u001b[0;34m\u001b[0m\u001b[0m\n\u001b[0m\u001b[1;32m    483\u001b[0m \u001b[0;34m\u001b[0m\u001b[0m\n\u001b[1;32m    484\u001b[0m     \u001b[0;32mif\u001b[0m \u001b[0mchunksize\u001b[0m \u001b[0;32mor\u001b[0m \u001b[0miterator\u001b[0m\u001b[0;34m:\u001b[0m\u001b[0;34m\u001b[0m\u001b[0;34m\u001b[0m\u001b[0m\n",
            "\u001b[0;32m/usr/local/lib/python3.7/dist-packages/pandas/io/parsers/readers.py\u001b[0m in \u001b[0;36m__init__\u001b[0;34m(self, f, engine, **kwds)\u001b[0m\n\u001b[1;32m    809\u001b[0m             \u001b[0mself\u001b[0m\u001b[0;34m.\u001b[0m\u001b[0moptions\u001b[0m\u001b[0;34m[\u001b[0m\u001b[0;34m\"has_index_names\"\u001b[0m\u001b[0;34m]\u001b[0m \u001b[0;34m=\u001b[0m \u001b[0mkwds\u001b[0m\u001b[0;34m[\u001b[0m\u001b[0;34m\"has_index_names\"\u001b[0m\u001b[0;34m]\u001b[0m\u001b[0;34m\u001b[0m\u001b[0;34m\u001b[0m\u001b[0m\n\u001b[1;32m    810\u001b[0m \u001b[0;34m\u001b[0m\u001b[0m\n\u001b[0;32m--> 811\u001b[0;31m         \u001b[0mself\u001b[0m\u001b[0;34m.\u001b[0m\u001b[0m_engine\u001b[0m \u001b[0;34m=\u001b[0m \u001b[0mself\u001b[0m\u001b[0;34m.\u001b[0m\u001b[0m_make_engine\u001b[0m\u001b[0;34m(\u001b[0m\u001b[0mself\u001b[0m\u001b[0;34m.\u001b[0m\u001b[0mengine\u001b[0m\u001b[0;34m)\u001b[0m\u001b[0;34m\u001b[0m\u001b[0;34m\u001b[0m\u001b[0m\n\u001b[0m\u001b[1;32m    812\u001b[0m \u001b[0;34m\u001b[0m\u001b[0m\n\u001b[1;32m    813\u001b[0m     \u001b[0;32mdef\u001b[0m \u001b[0mclose\u001b[0m\u001b[0;34m(\u001b[0m\u001b[0mself\u001b[0m\u001b[0;34m)\u001b[0m\u001b[0;34m:\u001b[0m\u001b[0;34m\u001b[0m\u001b[0;34m\u001b[0m\u001b[0m\n",
            "\u001b[0;32m/usr/local/lib/python3.7/dist-packages/pandas/io/parsers/readers.py\u001b[0m in \u001b[0;36m_make_engine\u001b[0;34m(self, engine)\u001b[0m\n\u001b[1;32m   1038\u001b[0m             )\n\u001b[1;32m   1039\u001b[0m         \u001b[0;31m# error: Too many arguments for \"ParserBase\"\u001b[0m\u001b[0;34m\u001b[0m\u001b[0;34m\u001b[0m\u001b[0;34m\u001b[0m\u001b[0m\n\u001b[0;32m-> 1040\u001b[0;31m         \u001b[0;32mreturn\u001b[0m \u001b[0mmapping\u001b[0m\u001b[0;34m[\u001b[0m\u001b[0mengine\u001b[0m\u001b[0;34m]\u001b[0m\u001b[0;34m(\u001b[0m\u001b[0mself\u001b[0m\u001b[0;34m.\u001b[0m\u001b[0mf\u001b[0m\u001b[0;34m,\u001b[0m \u001b[0;34m**\u001b[0m\u001b[0mself\u001b[0m\u001b[0;34m.\u001b[0m\u001b[0moptions\u001b[0m\u001b[0;34m)\u001b[0m  \u001b[0;31m# type: ignore[call-arg]\u001b[0m\u001b[0;34m\u001b[0m\u001b[0;34m\u001b[0m\u001b[0m\n\u001b[0m\u001b[1;32m   1041\u001b[0m \u001b[0;34m\u001b[0m\u001b[0m\n\u001b[1;32m   1042\u001b[0m     \u001b[0;32mdef\u001b[0m \u001b[0m_failover_to_python\u001b[0m\u001b[0;34m(\u001b[0m\u001b[0mself\u001b[0m\u001b[0;34m)\u001b[0m\u001b[0;34m:\u001b[0m\u001b[0;34m\u001b[0m\u001b[0;34m\u001b[0m\u001b[0m\n",
            "\u001b[0;32m/usr/local/lib/python3.7/dist-packages/pandas/io/parsers/c_parser_wrapper.py\u001b[0m in \u001b[0;36m__init__\u001b[0;34m(self, src, **kwds)\u001b[0m\n\u001b[1;32m     49\u001b[0m \u001b[0;34m\u001b[0m\u001b[0m\n\u001b[1;32m     50\u001b[0m         \u001b[0;31m# open handles\u001b[0m\u001b[0;34m\u001b[0m\u001b[0;34m\u001b[0m\u001b[0;34m\u001b[0m\u001b[0m\n\u001b[0;32m---> 51\u001b[0;31m         \u001b[0mself\u001b[0m\u001b[0;34m.\u001b[0m\u001b[0m_open_handles\u001b[0m\u001b[0;34m(\u001b[0m\u001b[0msrc\u001b[0m\u001b[0;34m,\u001b[0m \u001b[0mkwds\u001b[0m\u001b[0;34m)\u001b[0m\u001b[0;34m\u001b[0m\u001b[0;34m\u001b[0m\u001b[0m\n\u001b[0m\u001b[1;32m     52\u001b[0m         \u001b[0;32massert\u001b[0m \u001b[0mself\u001b[0m\u001b[0;34m.\u001b[0m\u001b[0mhandles\u001b[0m \u001b[0;32mis\u001b[0m \u001b[0;32mnot\u001b[0m \u001b[0;32mNone\u001b[0m\u001b[0;34m\u001b[0m\u001b[0;34m\u001b[0m\u001b[0m\n\u001b[1;32m     53\u001b[0m \u001b[0;34m\u001b[0m\u001b[0m\n",
            "\u001b[0;32m/usr/local/lib/python3.7/dist-packages/pandas/io/parsers/base_parser.py\u001b[0m in \u001b[0;36m_open_handles\u001b[0;34m(self, src, kwds)\u001b[0m\n\u001b[1;32m    227\u001b[0m             \u001b[0mmemory_map\u001b[0m\u001b[0;34m=\u001b[0m\u001b[0mkwds\u001b[0m\u001b[0;34m.\u001b[0m\u001b[0mget\u001b[0m\u001b[0;34m(\u001b[0m\u001b[0;34m\"memory_map\"\u001b[0m\u001b[0;34m,\u001b[0m \u001b[0;32mFalse\u001b[0m\u001b[0;34m)\u001b[0m\u001b[0;34m,\u001b[0m\u001b[0;34m\u001b[0m\u001b[0;34m\u001b[0m\u001b[0m\n\u001b[1;32m    228\u001b[0m             \u001b[0mstorage_options\u001b[0m\u001b[0;34m=\u001b[0m\u001b[0mkwds\u001b[0m\u001b[0;34m.\u001b[0m\u001b[0mget\u001b[0m\u001b[0;34m(\u001b[0m\u001b[0;34m\"storage_options\"\u001b[0m\u001b[0;34m,\u001b[0m \u001b[0;32mNone\u001b[0m\u001b[0;34m)\u001b[0m\u001b[0;34m,\u001b[0m\u001b[0;34m\u001b[0m\u001b[0;34m\u001b[0m\u001b[0m\n\u001b[0;32m--> 229\u001b[0;31m             \u001b[0merrors\u001b[0m\u001b[0;34m=\u001b[0m\u001b[0mkwds\u001b[0m\u001b[0;34m.\u001b[0m\u001b[0mget\u001b[0m\u001b[0;34m(\u001b[0m\u001b[0;34m\"encoding_errors\"\u001b[0m\u001b[0;34m,\u001b[0m \u001b[0;34m\"strict\"\u001b[0m\u001b[0;34m)\u001b[0m\u001b[0;34m,\u001b[0m\u001b[0;34m\u001b[0m\u001b[0;34m\u001b[0m\u001b[0m\n\u001b[0m\u001b[1;32m    230\u001b[0m         )\n\u001b[1;32m    231\u001b[0m \u001b[0;34m\u001b[0m\u001b[0m\n",
            "\u001b[0;32m/usr/local/lib/python3.7/dist-packages/pandas/io/common.py\u001b[0m in \u001b[0;36mget_handle\u001b[0;34m(path_or_buf, mode, encoding, compression, memory_map, is_text, errors, storage_options)\u001b[0m\n\u001b[1;32m    705\u001b[0m                 \u001b[0mencoding\u001b[0m\u001b[0;34m=\u001b[0m\u001b[0mioargs\u001b[0m\u001b[0;34m.\u001b[0m\u001b[0mencoding\u001b[0m\u001b[0;34m,\u001b[0m\u001b[0;34m\u001b[0m\u001b[0;34m\u001b[0m\u001b[0m\n\u001b[1;32m    706\u001b[0m                 \u001b[0merrors\u001b[0m\u001b[0;34m=\u001b[0m\u001b[0merrors\u001b[0m\u001b[0;34m,\u001b[0m\u001b[0;34m\u001b[0m\u001b[0;34m\u001b[0m\u001b[0m\n\u001b[0;32m--> 707\u001b[0;31m                 \u001b[0mnewline\u001b[0m\u001b[0;34m=\u001b[0m\u001b[0;34m\"\"\u001b[0m\u001b[0;34m,\u001b[0m\u001b[0;34m\u001b[0m\u001b[0;34m\u001b[0m\u001b[0m\n\u001b[0m\u001b[1;32m    708\u001b[0m             )\n\u001b[1;32m    709\u001b[0m         \u001b[0;32melse\u001b[0m\u001b[0;34m:\u001b[0m\u001b[0;34m\u001b[0m\u001b[0;34m\u001b[0m\u001b[0m\n",
            "\u001b[0;31mFileNotFoundError\u001b[0m: [Errno 2] No such file or directory: '/content/drive/MyDrive/Stige/Loan Case Study/previous_application.csv'"
          ]
        }
      ]
    },
    {
      "cell_type": "markdown",
      "source": [
        "<b>Inspect the dataset find out null values and percentage of null values column wise.</b>"
      ],
      "metadata": {
        "id": "azvGyL8_38pW"
      }
    },
    {
      "cell_type": "code",
      "source": [
        "#column-wise null values\n",
        "column_wise= application.isnull().sum(axis=0)\n",
        "print(column_wise)"
      ],
      "metadata": {
        "id": "bN9C8YL_xQdq"
      },
      "execution_count": null,
      "outputs": []
    },
    {
      "cell_type": "markdown",
      "source": [
        "<b>column-wise null percentage values.</b>"
      ],
      "metadata": {
        "id": "tsMB7Klv5nJ9"
      }
    },
    {
      "cell_type": "code",
      "source": [
        "#column-wise null percentage values\n",
        "columns = application.isnull()\n",
        "column_wise_per=round(columns.sum()/len(application.index) *100 ,2)\n",
        "print(column_wise_per)"
      ],
      "metadata": {
        "id": "gi9Wr48tyG85"
      },
      "execution_count": null,
      "outputs": []
    },
    {
      "cell_type": "markdown",
      "source": [
        "**Find out all the columns having null values percenatage greater then 40.**"
      ],
      "metadata": {
        "id": "NuV2kd254P9_"
      }
    },
    {
      "cell_type": "code",
      "source": [
        "#columns having null values percentage greater then 40\n",
        "more = column_wise_per[column_wise_per > 40]\n",
        "print(more)"
      ],
      "metadata": {
        "id": "Ez_NdbkRqb9n"
      },
      "execution_count": null,
      "outputs": []
    },
    {
      "cell_type": "markdown",
      "source": [
        "<b>Count of columns having null percentage greater then 40.</b>"
      ],
      "metadata": {
        "id": "mwLRjip55tk4"
      }
    },
    {
      "cell_type": "code",
      "source": [
        "print(\"No of columns having null value percenatge greater then 40 is : \",more.count())"
      ],
      "metadata": {
        "id": "qgNRidNnrR_d"
      },
      "execution_count": null,
      "outputs": []
    },
    {
      "cell_type": "markdown",
      "source": [
        "<b>drop all the columns having null values percentage greater then 40.</b>"
      ],
      "metadata": {
        "id": "_eL5bjAq50qE"
      }
    },
    {
      "cell_type": "code",
      "source": [
        "#drop all the columns having null values percentage greater then 40\n",
        "application.dropna(thresh=len(application) * .6, axis='columns',inplace=True)"
      ],
      "metadata": {
        "id": "9N7NwC6Erstg"
      },
      "execution_count": null,
      "outputs": []
    },
    {
      "cell_type": "markdown",
      "source": [
        "<b>Inscpect dataset after dropping values.</b>"
      ],
      "metadata": {
        "id": "aczIC9Ag57-r"
      }
    },
    {
      "cell_type": "code",
      "source": [
        "#columns with more then 60% not null\n",
        "application.info()\n",
        "application.shape"
      ],
      "metadata": {
        "id": "9AQFyP2FwQb0"
      },
      "execution_count": null,
      "outputs": []
    },
    {
      "cell_type": "code",
      "source": [
        "application"
      ],
      "metadata": {
        "id": "DPPQTi92zQTE"
      },
      "execution_count": null,
      "outputs": []
    },
    {
      "cell_type": "markdown",
      "source": [
        "<b>Drop all the columns which are not usefull for analysis.</b>"
      ],
      "metadata": {
        "id": "Iz2_yfLw6Cw8"
      }
    },
    {
      "cell_type": "code",
      "source": [
        "not_usefull=['EXT_SOURCE_2',\t'EXT_SOURCE_3','FLAG_DOCUMENT_2',\t'FLAG_DOCUMENT_3'\t,'FLAG_DOCUMENT_4',\t'FLAG_DOCUMENT_5',\t'FLAG_DOCUMENT_6',\t'FLAG_DOCUMENT_7'\t,'FLAG_DOCUMENT_8',\t'FLAG_DOCUMENT_9','FLAG_DOCUMENT_10',\t'FLAG_DOCUMENT_11',\t'FLAG_DOCUMENT_12',\t'FLAG_DOCUMENT_13',\t'FLAG_DOCUMENT_14',\t'FLAG_DOCUMENT_15',\t'FLAG_DOCUMENT_16',\t'FLAG_DOCUMENT_17',\t'FLAG_DOCUMENT_18',\n",
        "             'FLAG_DOCUMENT_19',\t'FLAG_DOCUMENT_20',\t'FLAG_DOCUMENT_21']"
      ],
      "metadata": {
        "id": "YNNZfA7IKf92"
      },
      "execution_count": null,
      "outputs": []
    },
    {
      "cell_type": "code",
      "source": [
        "application.drop(labels=not_usefull, axis='columns',inplace=True)"
      ],
      "metadata": {
        "id": "tyx6LaCzL7n7"
      },
      "execution_count": null,
      "outputs": []
    },
    {
      "cell_type": "markdown",
      "source": [
        "<b>Find the columns with less null and try to fill them.\n",
        "We have very few XNA values in gender replace then with max gender i.e. F .</b>\n"
      ],
      "metadata": {
        "id": "lvPze4qn6OKR"
      }
    },
    {
      "cell_type": "code",
      "source": [
        "application['CODE_GENDER'].value_counts()\n",
        "#as max no of customer we can replace XNA by female"
      ],
      "metadata": {
        "id": "Q2GRYVFyMeAs"
      },
      "execution_count": null,
      "outputs": []
    },
    {
      "cell_type": "code",
      "source": [
        "application['CODE_GENDER'].replace({'XNA':'F'},inplace=True) #replace XNA by F "
      ],
      "metadata": {
        "id": "h2iiF1NbNWkF"
      },
      "execution_count": null,
      "outputs": []
    },
    {
      "cell_type": "markdown",
      "source": [
        "<b>AMT_ANNUITY also have very few null values. fill the null values with the median.</b>"
      ],
      "metadata": {
        "id": "oSTaURuG6o-Y"
      }
    },
    {
      "cell_type": "code",
      "source": [
        "application['AMT_ANNUITY'].isnull().sum()/len(application)*100"
      ],
      "metadata": {
        "id": "AHq9uUzehVyk"
      },
      "execution_count": null,
      "outputs": []
    },
    {
      "cell_type": "code",
      "source": [
        "#fill up values of AMT_ANNUITY has the no of null values are low \n",
        "mean_AMT_ANNUITY = application['AMT_ANNUITY'].mean()\n",
        "application['AMT_ANNUITY'].fillna(value = mean_AMT_ANNUITY,inplace=True)"
      ],
      "metadata": {
        "id": "1GA7GeM1j3_n"
      },
      "execution_count": null,
      "outputs": []
    },
    {
      "cell_type": "markdown",
      "source": [
        "<b>As Organization_type is one of the important aspect considered while providing the loan. XNA values are droped.</b>"
      ],
      "metadata": {
        "id": "0qxhgSDV64x3"
      }
    },
    {
      "cell_type": "code",
      "source": [
        "application['ORGANIZATION_TYPE'].value_counts()"
      ],
      "metadata": {
        "id": "ULlCw0vDk0da"
      },
      "execution_count": null,
      "outputs": []
    },
    {
      "cell_type": "code",
      "source": [
        "application.drop(application[application['ORGANIZATION_TYPE'] == 'XNA'].index, inplace = True)"
      ],
      "metadata": {
        "id": "cLnEgrO2lewn"
      },
      "execution_count": null,
      "outputs": []
    },
    {
      "cell_type": "code",
      "source": [
        "previous.drop(previous[previous['NAME_CASH_LOAN_PURPOSE'] == 'XNA'].index, inplace = True)\n",
        "previous.drop(previous[previous['NAME_CASH_LOAN_PURPOSE'] == 'XAP'].index, inplace = True)\n",
        "previous.drop(previous[previous['NAME_CASH_LOAN_PURPOSE'] == 'Other'].index, inplace = True)"
      ],
      "metadata": {
        "id": "dGzcX9XcdBEF"
      },
      "execution_count": null,
      "outputs": []
    },
    {
      "cell_type": "markdown",
      "source": [
        "<h2>Identify Outliers in the dataset.</h2>"
      ],
      "metadata": {
        "id": "WZAXNrHu2wOE"
      }
    },
    {
      "cell_type": "code",
      "source": [
        "#'AMT_INCOME_TOTAL' \n",
        "features = ['CNT_CHILDREN','AMT_INCOME_TOTAL','AMT_CREDIT','AMT_ANNUITY']\n",
        "plt.figure(figsize = (9,7), dpi=300)\n",
        "for i in enumerate(features):\n",
        "    plt.subplot(2, 2, i[0]+1)\n",
        "    sns.boxplot(x = i[1], data = application )\n",
        "plt.show()"
      ],
      "metadata": {
        "id": "oJTeFSNFt7mv"
      },
      "execution_count": null,
      "outputs": []
    },
    {
      "cell_type": "markdown",
      "source": [
        "<b>CNT_CHILDREN:-</b> The median is probably identical to the first quartile, which is why they overlap. This tends to happen when you have a large proportion of identical, low values in the dataset.This means that all the data in between too must have the same value.\n",
        "\n",
        "<b>AMT_INCOME_TOTAL: -</b> It is the total income of the customer.There is single high value data point as outlier present in AMT_INCOME_TOTAL and Removal this point will drastically impact the box plot for further analysis.\n",
        "\n",
        "<b>AMT_CREDIT: -</b> It is the amount of loan taken the customer ealier. 1st quartile is slimer as complared to 3rd quartile.It indicates max of amount credit values are greater then meadian\n",
        "\n",
        "<b>AMT_ANNUITY: -</b> 1st quartile is slimer as complared to 3rd quartile.It indicates max of amount credit values are greater then meadian"
      ],
      "metadata": {
        "id": "3NApvofSwyOJ"
      }
    },
    {
      "cell_type": "markdown",
      "source": [
        "<h2>Bin Creation</h2>\n",
        "<b>Bin creation for values in a continous order.</b>"
      ],
      "metadata": {
        "id": "zubKlXDb9Jsi"
      }
    },
    {
      "cell_type": "code",
      "source": [
        "#create bin for income range of customers\n",
        "bins = [0,100000,200000,300000,400000,500000,1500000,2500000,5000000 ,10000000000]\n",
        "slot = ['<100000', '100000-200000','200000-300000','300000-400000','400000-500000', '500000-1500000','1500000-2500000','2500000-5000000','5000000-10000000000']\n",
        "\n",
        "application['AMT_INCOME_RANGE']=pd.cut(application['AMT_INCOME_TOTAL'],bins,labels=slot)"
      ],
      "metadata": {
        "id": "aEojER7Y9I7-"
      },
      "execution_count": null,
      "outputs": []
    },
    {
      "cell_type": "code",
      "source": [
        "bins = [0,100000,200000,300000,400000,500000,600000,700000,800000,900000,1500000,2500000,5000000 ,10000000000]\n",
        "slot = ['<100000', '100000-200000','200000-300000','300000-400000','400000-500000', '500000-600000',\n",
        "        '600000-700000','700000-800000','850000-900000','900000-1500000', '1500000-2500000','2500000-5000000','5000000-10000000000']\n",
        "\n",
        "application['AMT_CREDIT_RANGE']=pd.cut(application['AMT_CREDIT'],bins,labels=slot)"
      ],
      "metadata": {
        "id": "GJ5qcFRF-YRS"
      },
      "execution_count": null,
      "outputs": []
    },
    {
      "cell_type": "markdown",
      "source": [
        "<h2>Imbalance in the data</h2>\n",
        "<b>Find uneven distribution.</b>"
      ],
      "metadata": {
        "id": "1ipbEfDw5Kx1"
      }
    },
    {
      "cell_type": "code",
      "source": [
        "priority1 = application.loc[application['TARGET'] == 0]\n",
        "priority2 = application.loc[application['TARGET'] == 1]\n",
        "print('People paid their loan on time',len(priority1))\n",
        "print('People either missed insatllments or were unable to pay on time',len(priority2))"
      ],
      "metadata": {
        "id": "4hBAqcIc5NOw"
      },
      "execution_count": null,
      "outputs": []
    },
    {
      "cell_type": "code",
      "source": [
        "imbalance = round(len(priority2) / len(priority1) *100 ,2)\n",
        "print(\"Imbalance percentage of customers\",imbalance)"
      ],
      "metadata": {
        "id": "JcQJ0uoy7qA6"
      },
      "execution_count": null,
      "outputs": []
    },
    {
      "cell_type": "markdown",
      "source": [
        "<h2>Varient analysis</h2>"
      ],
      "metadata": {
        "id": "Ltdmnsq58PUa"
      }
    },
    {
      "cell_type": "code",
      "source": [
        "priority1 = application.loc[application['TARGET'] == 0]\n",
        "priority2 = application.loc[application['TARGET'] == 1]\n",
        "print('People paid their loan on time',len(priority1))\n",
        "print('People either missed insatllments or were unable to pay on time',len(priority2))"
      ],
      "metadata": {
        "id": "B2tEpAPKsWRs"
      },
      "execution_count": null,
      "outputs": []
    },
    {
      "cell_type": "markdown",
      "source": [
        "<h2>Univarient Data Analysis</h2>\n",
        "<b>Categorical and numerical data analysis.*italicized text*</b>"
      ],
      "metadata": {
        "id": "Ahhfy3e0_Asf"
      }
    },
    {
      "cell_type": "code",
      "source": [
        "#categorical Univarient\n",
        "category = ['AMT_INCOME_RANGE', 'AMT_CREDIT_RANGE','NAME_INCOME_TYPE','NAME_CONTRACT_TYPE']\n",
        "plt.figure(figsize = (20, 15))\n",
        "\n",
        "for i in enumerate(category):\n",
        "    plt.subplot(2, 2, i[0]+1)\n",
        "    plt.subplots_adjust(hspace=0.5)\n",
        "    sns.countplot(x = i[1], hue = 'TARGET', data = application)\n",
        "    plt.rcParams['axes.titlesize'] = 16\n",
        "    plt.xticks(rotation = 45)\n",
        "    plt.yscale('log')"
      ],
      "metadata": {
        "id": "_gosYGNo8TnA"
      },
      "execution_count": null,
      "outputs": []
    },
    {
      "cell_type": "markdown",
      "source": [
        "<b>AMT_INCOME_RANGE: -</b> Indcates income of the customers.<br>\n",
        "- Maximum amount of customers who applied for the loan have income in range of 100000-200000.\n",
        "- Maximum amount if customer who applied for the loan and were unable to pay back belong to the income range of 100000-200000.\n",
        "- Customers belong to income range of 2500000 5000000 have the lowest no of people who were unable to pay back the loan. \n",
        "\n",
        "<b>AMT_CREDIT_RANGE: - </b>Amount of loan taken the customer taken previously.\n",
        "- Most of the customers applied for the loan amount in the range of 900000-1500000 \n",
        "- People unable to pay back loan is almost equal in all the diffrent ranges.\n",
        "\n",
        "<b>NAME_INCOME_TYPE: -</b>Source of the income of the customer applying for the loan.\n",
        "- customer belonging to category student, Pensioner & Businessman have the payed back the loan on time.\n",
        "- Most of the customer applied for the maternity or working loan were unable to pay back.\n",
        "\n",
        "<b>NAME_CONTRACT_TYPE: - </b>Contract product type of the previous application.\n",
        "- Most of the customers how applied for the cash loan were unable to pay back.\n",
        "\n"
      ],
      "metadata": {
        "id": "d9XklXMRAFn3"
      }
    },
    {
      "cell_type": "code",
      "source": [
        "#numerical univarient continous\n",
        "features = ['DAYS_BIRTH','DAYS_EMPLOYED','DAYS_LAST_PHONE_CHANGE','DAYS_ID_PUBLISH']\n",
        "plt.figure(figsize = (20,15))\n",
        "\n",
        "for i in enumerate(features):\n",
        "    plt.subplot(2, 2, i[0]+1)\n",
        "    plt.subplots_adjust(hspace=0.5)\n",
        "    sns.boxplot(x = 'TARGET', y = i[1], data = application)"
      ],
      "metadata": {
        "id": "zECKH2cA_Oyc"
      },
      "execution_count": null,
      "outputs": []
    },
    {
      "cell_type": "markdown",
      "source": [
        "**Insights**\n",
        "- DAYS_BIRTH and DAYS_ID_PUBLISH have lesser outlier <br>\n",
        "- DAYS_BIRTH The people having lower age are having higher probability of repayment.<br>\n",
        "- In DAYS_ID_PUBLISH: people changing ID in recent days are relativelty prone to be default."
      ],
      "metadata": {
        "id": "wG231dS9Hr8T"
      }
    },
    {
      "cell_type": "markdown",
      "source": [
        "<h2>Bivarient Data Analysis</h2>"
      ],
      "metadata": {
        "id": "OzQ-BoDK9FqX"
      }
    },
    {
      "cell_type": "code",
      "source": [
        "#bivarient analysis\n",
        "plt.figure(figsize=(16,12))\n",
        "plt.xticks(rotation=45)\n",
        "sns.boxplot(data =priority1, x='NAME_EDUCATION_TYPE',y='AMT_CREDIT', hue ='NAME_FAMILY_STATUS',orient='v')\n",
        "plt.title('Credit amount vs Education Status')\n",
        "plt.show()"
      ],
      "metadata": {
        "id": "-AhatIOMHshf"
      },
      "execution_count": null,
      "outputs": []
    },
    {
      "cell_type": "markdown",
      "source": [
        "**Insights**\n",
        "- Most of the customer applied for the loan belong to Academic degree education category followed by Higher Education, Incomplete higher.\n",
        "- Higher Education and Secondary education has higher outlier as compared to other categories."
      ],
      "metadata": {
        "id": "Wo3UiYVaIICS"
      }
    },
    {
      "cell_type": "code",
      "source": [
        "plt.figure(figsize=(16,12))\n",
        "plt.xticks(rotation=45)\n",
        "plt.yscale('log')\n",
        "sns.boxplot(data = priority1, x='NAME_EDUCATION_TYPE',y='AMT_INCOME_TOTAL', hue ='NAME_FAMILY_STATUS',orient='v')\n",
        "plt.title('Income amount vs Education Status')\n",
        "plt.show()"
      ],
      "metadata": {
        "id": "OAHGHzwYIzoQ"
      },
      "execution_count": null,
      "outputs": []
    },
    {
      "cell_type": "markdown",
      "source": [
        "**Insights**\n",
        "- Customer belonging to academic degree education type have the highest income with lowest outliers.<br>\n",
        "- Lower secondary education type customers have the lowest income.<br>\n",
        "- Higher education customer have almost equal income independent of the family status.\n"
      ],
      "metadata": {
        "id": "JmXFq7d9JYN0"
      }
    },
    {
      "cell_type": "markdown",
      "source": [
        "<h2>Top 10 correlation for the Client.</h2>"
      ],
      "metadata": {
        "id": "reVZQTVO9Vua"
      }
    },
    {
      "cell_type": "code",
      "source": [
        "corr = priority1.corr()\n",
        "corrdf = corr.where(np.triu(np.ones(corr.shape), k=1).astype(np.bool))\n",
        "corrdf = corrdf.unstack().reset_index()\n",
        "corrdf.columns = ['Var1', 'Var2', 'Correlation']\n",
        "corrdf.dropna(subset = ['Correlation'], inplace = True)\n",
        "corrdf['Correlation'] = round(corrdf['Correlation'], 2)\n",
        "corrdf['Correlation'] = abs(corrdf['Correlation'])\n",
        "corrdf.sort_values(by = 'Correlation', ascending = False).head(10)"
      ],
      "metadata": {
        "id": "AdjcG9vsJy9k"
      },
      "execution_count": null,
      "outputs": []
    },
    {
      "cell_type": "code",
      "source": [
        "corr = priority2.corr()\n",
        "corrdf = corr.where(np.triu(np.ones(corr.shape), k=1).astype(np.bool))\n",
        "corrdf = corrdf.unstack().reset_index()\n",
        "corrdf.columns = ['Var1', 'Var2', 'Correlation']\n",
        "corrdf.dropna(subset = ['Correlation'], inplace = True)\n",
        "corrdf['Correlation'] = round(corrdf['Correlation'], 2)\n",
        "corrdf['Correlation'] = abs(corrdf['Correlation'])\n",
        "corrdf.sort_values(by = 'Correlation', ascending = False).head(10)"
      ],
      "metadata": {
        "id": "FIKtJX0rLPuX"
      },
      "execution_count": null,
      "outputs": []
    },
    {
      "cell_type": "markdown",
      "source": [
        "<h2>Important results</h2>"
      ],
      "metadata": {
        "id": "Q1W7xKZWVW3m"
      }
    },
    {
      "cell_type": "markdown",
      "source": [
        "<h4>Proportion of defaulters based on education type</h4>"
      ],
      "metadata": {
        "id": "zuhfLItx-scL"
      }
    },
    {
      "cell_type": "code",
      "source": [
        "#plt.figure(figsize=(10,7),dpi = 300)\n",
        "plt.xticks(rotation=90)\n",
        "plt.title(\"Distribution of NAME_EDUCATION_TYPE for pays on time & defaulter.\")\n",
        "ax = sns.countplot(data = application, x='NAME_EDUCATION_TYPE',order=application['NAME_EDUCATION_TYPE'].value_counts().index,hue = 'TARGET') "
      ],
      "metadata": {
        "id": "DvXkd1jeqexe"
      },
      "execution_count": null,
      "outputs": []
    },
    {
      "cell_type": "markdown",
      "source": [
        "<b>Insights </b>\n",
        "- Higher the education less the default."
      ],
      "metadata": {
        "id": "1zlggZfgqrGp"
      }
    },
    {
      "cell_type": "markdown",
      "source": [
        "<h4>Proportion of defaulters based on <b> Income Type </b> </h4>"
      ],
      "metadata": {
        "id": "4nQ8p5Ao--y1"
      }
    },
    {
      "cell_type": "code",
      "source": [
        "plt.title(\"Distribution of NAME_INCOME_TYPE for pays on time & defaulter.\")\n",
        "plt.xticks(rotation=90)\n",
        "ax = sns.countplot(data = application, x='NAME_INCOME_TYPE',order=application['NAME_INCOME_TYPE'].value_counts().index,hue = 'TARGET') "
      ],
      "metadata": {
        "id": "H-W_tDFCMgc1"
      },
      "execution_count": null,
      "outputs": []
    },
    {
      "cell_type": "markdown",
      "source": [
        "<b> Insights</b>\n",
        "- Most the customer who applied for the loan belong to working income type.\n",
        "- Student, Pensioner, Businessman must give more loan has they have maximum probability paying back on time\n",
        "- Better returns of loan as income increases.\n",
        "\n"
      ],
      "metadata": {
        "id": "bIR-1pURWQ9g"
      }
    },
    {
      "cell_type": "markdown",
      "source": [
        "<h4>Proportion of defaulters based on <b> Family Status </b> </h4>"
      ],
      "metadata": {
        "id": "Y3e7jItx_qsI"
      }
    },
    {
      "cell_type": "code",
      "source": [
        "plt.title(\"Distribution of NAME_FAMILY_STATUS for pays on time & defaulter.\")\n",
        "plt.xticks(rotation=90)\n",
        "ax = sns.countplot(data = application, x='NAME_FAMILY_STATUS',order=application['NAME_FAMILY_STATUS'].value_counts().index,hue = 'TARGET') "
      ],
      "metadata": {
        "id": "sltWE4lJnSWN"
      },
      "execution_count": null,
      "outputs": []
    },
    {
      "cell_type": "markdown",
      "source": [
        "<b>Insights</b>\n",
        "- Married people have less possiblity of not able to pay back loans.\n",
        "- Single people default more."
      ],
      "metadata": {
        "id": "G8D89zGUoY8O"
      }
    },
    {
      "cell_type": "markdown",
      "source": [
        "<h4>Proportion of defaulters based on <b> Previous amount credit and housing type. </b> </h4>"
      ],
      "metadata": {
        "id": "2E-UOY9K_-cA"
      }
    },
    {
      "cell_type": "code",
      "source": [
        "plt.xticks(rotation=90)\n",
        "sns.barplot(data =application, y='AMT_CREDIT',hue='TARGET',x='NAME_HOUSING_TYPE')\n",
        "plt.title('Prev Credit amount vs Housing type')\n",
        "plt.show()"
      ],
      "metadata": {
        "id": "PTdgPXDNZ4Nx"
      },
      "execution_count": null,
      "outputs": []
    },
    {
      "cell_type": "markdown",
      "source": [
        "<b>Insights</b>\n",
        "- Customer having Name_housing_type as with parents have paid the loan on time followed by House/apartment and Municipal Apartment.\n",
        "- Most of Co apartment customers were unable to pay back the loan.\n"
      ],
      "metadata": {
        "id": "pyr4stYtfYeJ"
      }
    },
    {
      "cell_type": "markdown",
      "source": [
        "<h4>Distribution of <b>purpose </b>based on target</h4>"
      ],
      "metadata": {
        "id": "ooiyj3ouLfTw"
      }
    },
    {
      "cell_type": "code",
      "source": [
        "plt.figure(figsize=(7,5),dpi = 300)\n",
        "plt.title('Distribution of purposes with target ')\n",
        "ax = sns.countplot(data = previous, y= 'NAME_CASH_LOAN_PURPOSE', \n",
        "                   order= previous['NAME_CASH_LOAN_PURPOSE'].value_counts().index,hue = 'NAME_CONTRACT_STATUS') "
      ],
      "metadata": {
        "id": "gOEFQyMQCArH"
      },
      "execution_count": null,
      "outputs": []
    },
    {
      "cell_type": "markdown",
      "source": [
        "**Insights**\n",
        "- Maximum difference for approval and rejection was found for buying a new car.\n",
        "- Maximum Refused & Approved loan belongs to repair purpose."
      ],
      "metadata": {
        "id": "DAiMQbUpL3--"
      }
    },
    {
      "cell_type": "markdown",
      "source": [
        "<h2> Conclusion</h2>\n",
        "\n",
        "- The proportion of defaulter is 9.48%.\n",
        "- Maximum customer applied & approved for the loan were females.\n",
        "- Most of the cash loans are in default so bank must provide more resolving loans.\n",
        "- Higher the education less the default.\n",
        "- Higher the income lesser the default.\n",
        "- Customer having Name_housing_type as with parents have less default.\n",
        "- Most of Co apartment housing type customers are defaulters.\n",
        "- Giving loans to married customer is safer as it has lower default rate.\n",
        "- Maximum difference for approval and rejection was found for buying a new car.\n",
        "- Maximum Refused & Approved loan belongs to repair purpose.\n"
      ],
      "metadata": {
        "id": "0wIC8JtTbswq"
      }
    }
  ]
}